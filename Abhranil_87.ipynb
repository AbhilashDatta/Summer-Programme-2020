{
 "cells": [
  {
   "cell_type": "code",
   "execution_count": 48,
   "metadata": {},
   "outputs": [],
   "source": [
    "import pandas as pd\n",
    "import numpy as np\n",
    "import os\n",
    "import matplotlib.pyplot as plt\n",
    "import seaborn as sns"
   ]
  },
  {
   "cell_type": "code",
   "execution_count": 49,
   "metadata": {},
   "outputs": [],
   "source": [
    "# Load train and Test set\n",
    "\n",
    "train=pd.read_csv(\"Trainfile.csv\")\n",
    "test=pd.read_csv(\"Testfile.csv\")"
   ]
  },
  {
   "cell_type": "code",
   "execution_count": 50,
   "metadata": {},
   "outputs": [
    {
     "name": "stdout",
     "output_type": "stream",
     "text": [
      "<class 'pandas.core.frame.DataFrame'>\n",
      "RangeIndex: 1138 entries, 0 to 1137\n",
      "Data columns (total 81 columns):\n",
      " #   Column         Non-Null Count  Dtype  \n",
      "---  ------         --------------  -----  \n",
      " 0   Idx            1138 non-null   int64  \n",
      " 1   MSSubClass     1138 non-null   int64  \n",
      " 2   MSZoning       1138 non-null   object \n",
      " 3   LotFrontage    938 non-null    float64\n",
      " 4   LotArea        1138 non-null   int64  \n",
      " 5   Street         1138 non-null   object \n",
      " 6   Alley          66 non-null     object \n",
      " 7   LotShape       1138 non-null   object \n",
      " 8   LandContour    1138 non-null   object \n",
      " 9   Utilities      1138 non-null   object \n",
      " 10  LotConfig      1138 non-null   object \n",
      " 11  LandSlope      1138 non-null   object \n",
      " 12  Neighborhood   1138 non-null   object \n",
      " 13  Condition1     1138 non-null   object \n",
      " 14  Condition2     1138 non-null   object \n",
      " 15  BldgType       1138 non-null   object \n",
      " 16  HouseStyle     1138 non-null   object \n",
      " 17  OverallQual    1138 non-null   int64  \n",
      " 18  OverallCond    1138 non-null   int64  \n",
      " 19  YearBuilt      1138 non-null   int64  \n",
      " 20  YearRemodAdd   1138 non-null   int64  \n",
      " 21  RoofStyle      1138 non-null   object \n",
      " 22  RoofMatl       1138 non-null   object \n",
      " 23  Exterior1st    1138 non-null   object \n",
      " 24  Exterior2nd    1138 non-null   object \n",
      " 25  MasVnrType     1132 non-null   object \n",
      " 26  MasVnrArea     1132 non-null   float64\n",
      " 27  ExterQual      1138 non-null   object \n",
      " 28  ExterCond      1138 non-null   object \n",
      " 29  Foundation     1138 non-null   object \n",
      " 30  BsmtQual       1108 non-null   object \n",
      " 31  BsmtCond       1108 non-null   object \n",
      " 32  BsmtExposure   1107 non-null   object \n",
      " 33  BsmtFinType1   1108 non-null   object \n",
      " 34  BsmtFinSF1     1138 non-null   int64  \n",
      " 35  BsmtFinType2   1107 non-null   object \n",
      " 36  BsmtFinSF2     1138 non-null   int64  \n",
      " 37  BsmtUnfSF      1138 non-null   int64  \n",
      " 38  TotalBsmtSF    1138 non-null   int64  \n",
      " 39  Heating        1138 non-null   object \n",
      " 40  HeatingQC      1138 non-null   object \n",
      " 41  CentralAir     1138 non-null   object \n",
      " 42  Electrical     1137 non-null   object \n",
      " 43  1stFlrSF       1138 non-null   int64  \n",
      " 44  2ndFlrSF       1138 non-null   int64  \n",
      " 45  LowQualFinSF   1138 non-null   int64  \n",
      " 46  GrLivArea      1138 non-null   int64  \n",
      " 47  BsmtFullBath   1138 non-null   int64  \n",
      " 48  BsmtHalfBath   1138 non-null   int64  \n",
      " 49  FullBath       1138 non-null   int64  \n",
      " 50  HalfBath       1138 non-null   int64  \n",
      " 51  BedroomAbvGr   1138 non-null   int64  \n",
      " 52  KitchenAbvGr   1138 non-null   int64  \n",
      " 53  KitchenQual    1138 non-null   object \n",
      " 54  TotRmsAbvGrd   1138 non-null   int64  \n",
      " 55  Functional     1138 non-null   object \n",
      " 56  Fireplaces     1138 non-null   int64  \n",
      " 57  FireplaceQu    598 non-null    object \n",
      " 58  GarageType     1070 non-null   object \n",
      " 59  GarageYrBlt    1070 non-null   float64\n",
      " 60  GarageFinish   1070 non-null   object \n",
      " 61  GarageCars     1138 non-null   int64  \n",
      " 62  GarageArea     1138 non-null   int64  \n",
      " 63  GarageQual     1070 non-null   object \n",
      " 64  GarageCond     1070 non-null   object \n",
      " 65  PavedDrive     1138 non-null   object \n",
      " 66  WoodDeckSF     1138 non-null   int64  \n",
      " 67  OpenPorchSF    1138 non-null   int64  \n",
      " 68  EnclosedPorch  1138 non-null   int64  \n",
      " 69  3SsnPorch      1138 non-null   int64  \n",
      " 70  ScreenPorch    1138 non-null   int64  \n",
      " 71  PoolArea       1138 non-null   int64  \n",
      " 72  PoolQC         5 non-null      object \n",
      " 73  Fence          224 non-null    object \n",
      " 74  MiscFeature    42 non-null     object \n",
      " 75  MiscVal        1138 non-null   int64  \n",
      " 76  MoSold         1138 non-null   int64  \n",
      " 77  YrSold         1138 non-null   int64  \n",
      " 78  SaleType       1138 non-null   object \n",
      " 79  SaleCondition  1138 non-null   object \n",
      " 80  SalePrice      1138 non-null   int64  \n",
      "dtypes: float64(3), int64(35), object(43)\n",
      "memory usage: 720.3+ KB\n"
     ]
    }
   ],
   "source": [
    "train.info()"
   ]
  },
  {
   "cell_type": "code",
   "execution_count": 51,
   "metadata": {},
   "outputs": [
    {
     "data": {
      "text/plain": [
       "Idx                0\n",
       "MSSubClass         0\n",
       "MSZoning           0\n",
       "LotFrontage      200\n",
       "LotArea            0\n",
       "                ... \n",
       "MoSold             0\n",
       "YrSold             0\n",
       "SaleType           0\n",
       "SaleCondition      0\n",
       "SalePrice          0\n",
       "Length: 81, dtype: int64"
      ]
     },
     "execution_count": 51,
     "metadata": {},
     "output_type": "execute_result"
    }
   ],
   "source": [
    "train.isnull().sum()"
   ]
  },
  {
   "cell_type": "code",
   "execution_count": 52,
   "metadata": {},
   "outputs": [],
   "source": [
    "nullableColumns = train.columns[train.isna().any()==True].tolist()"
   ]
  },
  {
   "cell_type": "code",
   "execution_count": 53,
   "metadata": {},
   "outputs": [
    {
     "data": {
      "text/plain": [
       "['LotFrontage',\n",
       " 'Alley',\n",
       " 'MasVnrType',\n",
       " 'MasVnrArea',\n",
       " 'BsmtQual',\n",
       " 'BsmtCond',\n",
       " 'BsmtExposure',\n",
       " 'BsmtFinType1',\n",
       " 'BsmtFinType2',\n",
       " 'Electrical',\n",
       " 'FireplaceQu',\n",
       " 'GarageType',\n",
       " 'GarageYrBlt',\n",
       " 'GarageFinish',\n",
       " 'GarageQual',\n",
       " 'GarageCond',\n",
       " 'PoolQC',\n",
       " 'Fence',\n",
       " 'MiscFeature']"
      ]
     },
     "execution_count": 53,
     "metadata": {},
     "output_type": "execute_result"
    }
   ],
   "source": [
    "nullableColumns"
   ]
  },
  {
   "cell_type": "code",
   "execution_count": 54,
   "metadata": {},
   "outputs": [],
   "source": [
    "train = train.drop(nullableColumns, axis=1)"
   ]
  },
  {
   "cell_type": "code",
   "execution_count": 55,
   "metadata": {},
   "outputs": [],
   "source": [
    "test=test.drop(nullableColumns, axis=1)"
   ]
  },
  {
   "cell_type": "code",
   "execution_count": 56,
   "metadata": {},
   "outputs": [
    {
     "data": {
      "text/plain": [
       "(1138, 62)"
      ]
     },
     "execution_count": 56,
     "metadata": {},
     "output_type": "execute_result"
    }
   ],
   "source": [
    "train.shape"
   ]
  },
  {
   "cell_type": "code",
   "execution_count": 57,
   "metadata": {},
   "outputs": [
    {
     "data": {
      "text/plain": [
       "(322, 62)"
      ]
     },
     "execution_count": 57,
     "metadata": {},
     "output_type": "execute_result"
    }
   ],
   "source": [
    "test.shape"
   ]
  },
  {
   "cell_type": "code",
   "execution_count": 58,
   "metadata": {
    "scrolled": true
   },
   "outputs": [
    {
     "name": "stdout",
     "output_type": "stream",
     "text": [
      "<class 'pandas.core.frame.DataFrame'>\n",
      "RangeIndex: 1138 entries, 0 to 1137\n",
      "Data columns (total 62 columns):\n",
      " #   Column         Non-Null Count  Dtype \n",
      "---  ------         --------------  ----- \n",
      " 0   Idx            1138 non-null   int64 \n",
      " 1   MSSubClass     1138 non-null   int64 \n",
      " 2   MSZoning       1138 non-null   object\n",
      " 3   LotArea        1138 non-null   int64 \n",
      " 4   Street         1138 non-null   object\n",
      " 5   LotShape       1138 non-null   object\n",
      " 6   LandContour    1138 non-null   object\n",
      " 7   Utilities      1138 non-null   object\n",
      " 8   LotConfig      1138 non-null   object\n",
      " 9   LandSlope      1138 non-null   object\n",
      " 10  Neighborhood   1138 non-null   object\n",
      " 11  Condition1     1138 non-null   object\n",
      " 12  Condition2     1138 non-null   object\n",
      " 13  BldgType       1138 non-null   object\n",
      " 14  HouseStyle     1138 non-null   object\n",
      " 15  OverallQual    1138 non-null   int64 \n",
      " 16  OverallCond    1138 non-null   int64 \n",
      " 17  YearBuilt      1138 non-null   int64 \n",
      " 18  YearRemodAdd   1138 non-null   int64 \n",
      " 19  RoofStyle      1138 non-null   object\n",
      " 20  RoofMatl       1138 non-null   object\n",
      " 21  Exterior1st    1138 non-null   object\n",
      " 22  Exterior2nd    1138 non-null   object\n",
      " 23  ExterQual      1138 non-null   object\n",
      " 24  ExterCond      1138 non-null   object\n",
      " 25  Foundation     1138 non-null   object\n",
      " 26  BsmtFinSF1     1138 non-null   int64 \n",
      " 27  BsmtFinSF2     1138 non-null   int64 \n",
      " 28  BsmtUnfSF      1138 non-null   int64 \n",
      " 29  TotalBsmtSF    1138 non-null   int64 \n",
      " 30  Heating        1138 non-null   object\n",
      " 31  HeatingQC      1138 non-null   object\n",
      " 32  CentralAir     1138 non-null   object\n",
      " 33  1stFlrSF       1138 non-null   int64 \n",
      " 34  2ndFlrSF       1138 non-null   int64 \n",
      " 35  LowQualFinSF   1138 non-null   int64 \n",
      " 36  GrLivArea      1138 non-null   int64 \n",
      " 37  BsmtFullBath   1138 non-null   int64 \n",
      " 38  BsmtHalfBath   1138 non-null   int64 \n",
      " 39  FullBath       1138 non-null   int64 \n",
      " 40  HalfBath       1138 non-null   int64 \n",
      " 41  BedroomAbvGr   1138 non-null   int64 \n",
      " 42  KitchenAbvGr   1138 non-null   int64 \n",
      " 43  KitchenQual    1138 non-null   object\n",
      " 44  TotRmsAbvGrd   1138 non-null   int64 \n",
      " 45  Functional     1138 non-null   object\n",
      " 46  Fireplaces     1138 non-null   int64 \n",
      " 47  GarageCars     1138 non-null   int64 \n",
      " 48  GarageArea     1138 non-null   int64 \n",
      " 49  PavedDrive     1138 non-null   object\n",
      " 50  WoodDeckSF     1138 non-null   int64 \n",
      " 51  OpenPorchSF    1138 non-null   int64 \n",
      " 52  EnclosedPorch  1138 non-null   int64 \n",
      " 53  3SsnPorch      1138 non-null   int64 \n",
      " 54  ScreenPorch    1138 non-null   int64 \n",
      " 55  PoolArea       1138 non-null   int64 \n",
      " 56  MiscVal        1138 non-null   int64 \n",
      " 57  MoSold         1138 non-null   int64 \n",
      " 58  YrSold         1138 non-null   int64 \n",
      " 59  SaleType       1138 non-null   object\n",
      " 60  SaleCondition  1138 non-null   object\n",
      " 61  SalePrice      1138 non-null   int64 \n",
      "dtypes: int64(35), object(27)\n",
      "memory usage: 551.3+ KB\n"
     ]
    }
   ],
   "source": [
    "train.info()"
   ]
  },
  {
   "cell_type": "code",
   "execution_count": 59,
   "metadata": {},
   "outputs": [
    {
     "name": "stdout",
     "output_type": "stream",
     "text": [
      "<class 'pandas.core.frame.DataFrame'>\n",
      "RangeIndex: 322 entries, 0 to 321\n",
      "Data columns (total 62 columns):\n",
      " #   Column         Non-Null Count  Dtype \n",
      "---  ------         --------------  ----- \n",
      " 0   Idx            322 non-null    int64 \n",
      " 1   MSSubClass     322 non-null    int64 \n",
      " 2   MSZoning       322 non-null    object\n",
      " 3   LotArea        322 non-null    int64 \n",
      " 4   Street         322 non-null    object\n",
      " 5   LotShape       322 non-null    object\n",
      " 6   LandContour    322 non-null    object\n",
      " 7   Utilities      322 non-null    object\n",
      " 8   LotConfig      322 non-null    object\n",
      " 9   LandSlope      322 non-null    object\n",
      " 10  Neighborhood   322 non-null    object\n",
      " 11  Condition1     322 non-null    object\n",
      " 12  Condition2     322 non-null    object\n",
      " 13  BldgType       322 non-null    object\n",
      " 14  HouseStyle     322 non-null    object\n",
      " 15  OverallQual    322 non-null    int64 \n",
      " 16  OverallCond    322 non-null    int64 \n",
      " 17  YearBuilt      322 non-null    int64 \n",
      " 18  YearRemodAdd   322 non-null    int64 \n",
      " 19  RoofStyle      322 non-null    object\n",
      " 20  RoofMatl       322 non-null    object\n",
      " 21  Exterior1st    322 non-null    object\n",
      " 22  Exterior2nd    322 non-null    object\n",
      " 23  ExterQual      322 non-null    object\n",
      " 24  ExterCond      322 non-null    object\n",
      " 25  Foundation     322 non-null    object\n",
      " 26  BsmtFinSF1     322 non-null    int64 \n",
      " 27  BsmtFinSF2     322 non-null    int64 \n",
      " 28  BsmtUnfSF      322 non-null    int64 \n",
      " 29  TotalBsmtSF    322 non-null    int64 \n",
      " 30  Heating        322 non-null    object\n",
      " 31  HeatingQC      322 non-null    object\n",
      " 32  CentralAir     322 non-null    object\n",
      " 33  1stFlrSF       322 non-null    int64 \n",
      " 34  2ndFlrSF       322 non-null    int64 \n",
      " 35  LowQualFinSF   322 non-null    int64 \n",
      " 36  GrLivArea      322 non-null    int64 \n",
      " 37  BsmtFullBath   322 non-null    int64 \n",
      " 38  BsmtHalfBath   322 non-null    int64 \n",
      " 39  FullBath       322 non-null    int64 \n",
      " 40  HalfBath       322 non-null    int64 \n",
      " 41  BedroomAbvGr   322 non-null    int64 \n",
      " 42  KitchenAbvGr   322 non-null    int64 \n",
      " 43  KitchenQual    322 non-null    object\n",
      " 44  TotRmsAbvGrd   322 non-null    int64 \n",
      " 45  Functional     322 non-null    object\n",
      " 46  Fireplaces     322 non-null    int64 \n",
      " 47  GarageCars     322 non-null    int64 \n",
      " 48  GarageArea     322 non-null    int64 \n",
      " 49  PavedDrive     322 non-null    object\n",
      " 50  WoodDeckSF     322 non-null    int64 \n",
      " 51  OpenPorchSF    322 non-null    int64 \n",
      " 52  EnclosedPorch  322 non-null    int64 \n",
      " 53  3SsnPorch      322 non-null    int64 \n",
      " 54  ScreenPorch    322 non-null    int64 \n",
      " 55  PoolArea       322 non-null    int64 \n",
      " 56  MiscVal        322 non-null    int64 \n",
      " 57  MoSold         322 non-null    int64 \n",
      " 58  YrSold         322 non-null    int64 \n",
      " 59  SaleType       322 non-null    object\n",
      " 60  SaleCondition  322 non-null    object\n",
      " 61  SalePrice      322 non-null    int64 \n",
      "dtypes: int64(35), object(27)\n",
      "memory usage: 156.1+ KB\n"
     ]
    }
   ],
   "source": [
    "test.info()"
   ]
  },
  {
   "cell_type": "code",
   "execution_count": 60,
   "metadata": {},
   "outputs": [
    {
     "data": {
      "text/plain": [
       "['Idx',\n",
       " 'MSSubClass',\n",
       " 'LotArea',\n",
       " 'OverallQual',\n",
       " 'OverallCond',\n",
       " 'YearBuilt',\n",
       " 'YearRemodAdd',\n",
       " 'BsmtFinSF1',\n",
       " 'BsmtFinSF2',\n",
       " 'BsmtUnfSF',\n",
       " 'TotalBsmtSF',\n",
       " '1stFlrSF',\n",
       " '2ndFlrSF',\n",
       " 'LowQualFinSF',\n",
       " 'GrLivArea',\n",
       " 'BsmtFullBath',\n",
       " 'BsmtHalfBath',\n",
       " 'FullBath',\n",
       " 'HalfBath',\n",
       " 'BedroomAbvGr',\n",
       " 'KitchenAbvGr',\n",
       " 'TotRmsAbvGrd',\n",
       " 'Fireplaces',\n",
       " 'GarageCars',\n",
       " 'GarageArea',\n",
       " 'WoodDeckSF',\n",
       " 'OpenPorchSF',\n",
       " 'EnclosedPorch',\n",
       " '3SsnPorch',\n",
       " 'ScreenPorch',\n",
       " 'PoolArea',\n",
       " 'MiscVal',\n",
       " 'MoSold',\n",
       " 'YrSold',\n",
       " 'SalePrice']"
      ]
     },
     "execution_count": 60,
     "metadata": {},
     "output_type": "execute_result"
    }
   ],
   "source": [
    "numeric_features = train.select_dtypes(include = [np.number])\n",
    "\n",
    "numeric_features.columns.tolist()"
   ]
  },
  {
   "cell_type": "code",
   "execution_count": 61,
   "metadata": {},
   "outputs": [],
   "source": [
    "numerical_features=['MSSubClass','LotArea','OverallQual','OverallCond','YearBuilt','YearRemodAdd',\n",
    " 'BsmtFinSF1','BsmtFinSF2','BsmtUnfSF','TotalBsmtSF','1stFlrSF','2ndFlrSF','LowQualFinSF','GrLivArea',\n",
    " 'BsmtFullBath','BsmtHalfBath','FullBath','HalfBath','BedroomAbvGr','KitchenAbvGr','TotRmsAbvGrd','Fireplaces',\n",
    " 'GarageCars','GarageArea','WoodDeckSF','OpenPorchSF','EnclosedPorch','3SsnPorch','ScreenPorch','PoolArea','MiscVal',\n",
    " 'MoSold','YrSold']"
   ]
  },
  {
   "cell_type": "code",
   "execution_count": 62,
   "metadata": {},
   "outputs": [],
   "source": [
    "features =numerical_features\n",
    "\n",
    "X_train=train[features].copy()\n",
    "X_test=test[features].copy()\n",
    "\n",
    "y_train=train[['SalePrice']].copy()\n",
    "y_test=test[['SalePrice']].copy()"
   ]
  },
  {
   "cell_type": "code",
   "execution_count": 63,
   "metadata": {},
   "outputs": [],
   "source": [
    "#Normalizing the input matrix so that gradient descent can perform better\n",
    "X_train=(X_train-X_train.mean())/(X_train.max()-X_train.min())\n",
    "X_test=(X_test-X_test.mean())/(X_test.max()-X_test.min())"
   ]
  },
  {
   "cell_type": "code",
   "execution_count": 64,
   "metadata": {},
   "outputs": [
    {
     "data": {
      "text/plain": [
       "(1138, 33)"
      ]
     },
     "execution_count": 64,
     "metadata": {},
     "output_type": "execute_result"
    }
   ],
   "source": [
    "X_train.shape"
   ]
  },
  {
   "cell_type": "code",
   "execution_count": 65,
   "metadata": {},
   "outputs": [
    {
     "data": {
      "text/plain": [
       "(33, 1138)"
      ]
     },
     "execution_count": 65,
     "metadata": {},
     "output_type": "execute_result"
    }
   ],
   "source": [
    "# the model needs X_train of dim (no.of featuresxno.of training examples)\n",
    "X_train=(X_train.T).to_numpy() \n",
    "X_train.shape"
   ]
  },
  {
   "cell_type": "code",
   "execution_count": 66,
   "metadata": {},
   "outputs": [
    {
     "data": {
      "text/plain": [
       "(1138, 1)"
      ]
     },
     "execution_count": 66,
     "metadata": {},
     "output_type": "execute_result"
    }
   ],
   "source": [
    "y_train.shape"
   ]
  },
  {
   "cell_type": "code",
   "execution_count": 67,
   "metadata": {},
   "outputs": [
    {
     "data": {
      "text/plain": [
       "(1, 1138)"
      ]
     },
     "execution_count": 67,
     "metadata": {},
     "output_type": "execute_result"
    }
   ],
   "source": [
    "# the model needs y_train of dim (1xno.of training examples)\n",
    "y_train=(y_train.T).to_numpy()\n",
    "y_train.shape"
   ]
  },
  {
   "cell_type": "code",
   "execution_count": 68,
   "metadata": {},
   "outputs": [
    {
     "data": {
      "text/plain": [
       "(322, 33)"
      ]
     },
     "execution_count": 68,
     "metadata": {},
     "output_type": "execute_result"
    }
   ],
   "source": [
    "X_test.shape"
   ]
  },
  {
   "cell_type": "code",
   "execution_count": 69,
   "metadata": {},
   "outputs": [
    {
     "data": {
      "text/plain": [
       "(33, 322)"
      ]
     },
     "execution_count": 69,
     "metadata": {},
     "output_type": "execute_result"
    }
   ],
   "source": [
    "# the model needs X_train of dim (no.of featuresxno.of testing examples)\n",
    "X_test=(X_test.T).to_numpy()\n",
    "X_test.shape"
   ]
  },
  {
   "cell_type": "code",
   "execution_count": 70,
   "metadata": {},
   "outputs": [
    {
     "data": {
      "text/plain": [
       "(322, 1)"
      ]
     },
     "execution_count": 70,
     "metadata": {},
     "output_type": "execute_result"
    }
   ],
   "source": [
    "y_test.shape"
   ]
  },
  {
   "cell_type": "code",
   "execution_count": 71,
   "metadata": {},
   "outputs": [
    {
     "data": {
      "text/plain": [
       "(1, 322)"
      ]
     },
     "execution_count": 71,
     "metadata": {},
     "output_type": "execute_result"
    }
   ],
   "source": [
    "# the model needs y_test of dim (1xno.of testing examples)\n",
    "y_test=(y_test.T).to_numpy()\n",
    "y_test.shape"
   ]
  },
  {
   "cell_type": "code",
   "execution_count": null,
   "metadata": {},
   "outputs": [],
   "source": [
    "# multivariable linear regression model from scratch"
   ]
  },
  {
   "cell_type": "code",
   "execution_count": 72,
   "metadata": {},
   "outputs": [],
   "source": [
    "def init_param(len_w):\n",
    "    w =np.zeros((len_w, 1))\n",
    "    b=0\n",
    "    assert(w.shape == (len_w, 1))\n",
    "    assert(isinstance(b, float) or isinstance(b, int))\n",
    "    return w,b"
   ]
  },
  {
   "cell_type": "code",
   "execution_count": 73,
   "metadata": {},
   "outputs": [],
   "source": [
    "def propagate(w,b,X,Y): \n",
    "    #fwd_prop\n",
    "    m = X.shape[1]\n",
    "    A=np.dot(w.T,X)+b \n",
    "    cost=np.sum(np.square(A - Y),dtype = np.float32)/(2*m)\n",
    "\n",
    "    #back_prop\n",
    "    dw = np.dot(X, (A - Y).T ) / m\n",
    "    db = np.sum(A - Y)/ m\n",
    "    \n",
    "    assert(dw.shape == w.shape)\n",
    "    assert(db.dtype == float)\n",
    "    cost = np.squeeze(cost)\n",
    "    assert(cost.shape==())\n",
    "    \n",
    "    grads = {\"dw\": dw,\n",
    "             \"db\": db}\n",
    "    \n",
    "    return grads,cost"
   ]
  },
  {
   "cell_type": "code",
   "execution_count": 74,
   "metadata": {},
   "outputs": [],
   "source": [
    "def grad_desc_update(w, b, X, Y, num_iterations, learning_rate, print_cost = False):\n",
    "    \n",
    "    for i in range(num_iterations):\n",
    "        \n",
    "        costs = []\n",
    "        grads, cost = propagate(w, b, X, Y)\n",
    "    \n",
    "        dw = grads[\"dw\"]\n",
    "        db = grads[\"db\"]\n",
    "    \n",
    "        w=w-learning_rate*dw\n",
    "        b=b-learning_rate*db\n",
    "        \n",
    "        # Record the costs\n",
    "        if i % 100 == 0:\n",
    "            costs.append(cost)\n",
    "        \n",
    "        # Print the cost every 100 training examples\n",
    "        if print_cost and i % 100 == 0:\n",
    "            print (\"Cost after iteration %i: %f\" %(i, cost))\n",
    "    \n",
    "    \n",
    "    \n",
    "    params = {\"w\": w,\n",
    "              \"b\": b}\n",
    "    \n",
    "    grads = {\"dw\": dw,\n",
    "             \"db\": db}\n",
    "            \n",
    "            \n",
    "    return params, grads, costs"
   ]
  },
  {
   "cell_type": "code",
   "execution_count": 75,
   "metadata": {},
   "outputs": [],
   "source": [
    "def predict(w, b, X):\n",
    "    m = X.shape[1]\n",
    "    Y_prediction = np.zeros((1,m))\n",
    "    w = w.reshape(X.shape[0], 1)\n",
    "    \n",
    "    A =np.dot(w.T, X) + b\n",
    "\n",
    "    for i in range(A.shape[1]):\n",
    "        Y_prediction[0,i] = A[0,i]\n",
    "    \n",
    "    assert(Y_prediction.shape == (1, m))\n",
    "    \n",
    "    return Y_prediction"
   ]
  },
  {
   "cell_type": "code",
   "execution_count": 103,
   "metadata": {},
   "outputs": [],
   "source": [
    "def MultivariateLinearReg_model(X_train, Y_train, X_test, Y_test, num_iterations = 2000, learning_rate = 0.5, print_cost = False):\n",
    "    \n",
    "    # initialize parameters with zeros \n",
    "    w, b = init_param(X_train.shape[0])\n",
    "    \n",
    "    # Gradient descent \n",
    "    parameters, grads, costs = grad_desc_update(w, b, X_train, Y_train, num_iterations, learning_rate, print_cost = print_cost)\n",
    "    \n",
    "    # Retrieve parameters w and b from dictionary \"parameters\"\n",
    "    w = parameters[\"w\"]\n",
    "    b = parameters[\"b\"]\n",
    "    \n",
    "    # Predict test/train set examples \n",
    "    Y_prediction_test = predict(w, b, X_test)\n",
    "    Y_prediction_train = predict(w, b, X_train)\n",
    "    \n",
    "    mean_Y_train=np.mean(Y_train)\n",
    "    mean_Y_test=np.mean(Y_test)\n",
    "    train_accuracy=((np.mean(np.abs(Y_prediction_train - Y_train)) * 100)/mean_Y_train)\n",
    "    test_accuracy=((np.mean(np.abs(Y_prediction_test - Y_test)) * 100)/mean_Y_test)\n",
    "    print(\"MAPE of training dataset: {} %\".format(train_accuracy))\n",
    "    print(\"MAPE of test dataset: {} %\".format(test_accuracy))\n",
    "    "
   ]
  },
  {
   "cell_type": "code",
   "execution_count": 104,
   "metadata": {},
   "outputs": [
    {
     "name": "stdout",
     "output_type": "stream",
     "text": [
      "Cost after iteration 0: 19013861779.121265\n",
      "Cost after iteration 100: 1544460766.706503\n",
      "Cost after iteration 200: 1064052516.442882\n",
      "Cost after iteration 300: 903268348.400703\n",
      "Cost after iteration 400: 830447889.546573\n",
      "Cost after iteration 500: 788889830.355009\n",
      "Cost after iteration 600: 760945521.827768\n",
      "Cost after iteration 700: 740308016.590510\n",
      "Cost after iteration 800: 724237760.112478\n",
      "Cost after iteration 900: 711287028.752197\n",
      "Cost after iteration 1000: 700575060.133568\n",
      "Cost after iteration 1100: 691521474.811951\n",
      "Cost after iteration 1200: 683727355.500879\n",
      "Cost after iteration 1300: 676911553.912127\n",
      "Cost after iteration 1400: 670872336.646749\n",
      "Cost after iteration 1500: 665462276.499121\n",
      "Cost after iteration 1600: 660572300.372584\n",
      "Cost after iteration 1700: 656119768.407733\n",
      "Cost after iteration 1800: 652041505.743410\n",
      "Cost after iteration 1900: 648287755.697715\n",
      "Cost after iteration 2000: 644818954.797891\n",
      "Cost after iteration 2100: 641603083.697715\n",
      "Cost after iteration 2200: 638613536.393673\n",
      "Cost after iteration 2300: 635828026.038664\n",
      "Cost after iteration 2400: 633227836.288225\n",
      "Cost after iteration 2500: 630796439.170475\n",
      "Cost after iteration 2600: 628519610.263620\n",
      "Cost after iteration 2700: 626384795.219684\n",
      "Cost after iteration 2800: 624380936.998242\n",
      "Cost after iteration 2900: 622498072.745167\n",
      "Cost after iteration 3000: 620727161.026362\n",
      "Cost after iteration 3100: 619060139.416520\n",
      "Cost after iteration 3200: 617489694.144112\n",
      "Cost after iteration 3300: 616009029.736380\n",
      "Cost after iteration 3400: 614612041.785589\n",
      "Cost after iteration 3500: 613293029.005272\n",
      "Cost after iteration 3600: 612046865.996485\n",
      "Cost after iteration 3700: 610868772.892794\n",
      "Cost after iteration 3800: 609754430.537786\n",
      "Cost after iteration 3900: 608699462.186292\n",
      "Cost after iteration 4000: 607700412.513181\n",
      "Cost after iteration 4100: 606753653.427065\n",
      "Cost after iteration 4200: 605855902.369069\n",
      "Cost after iteration 4300: 605004164.724077\n",
      "Cost after iteration 4400: 604195676.231986\n",
      "Cost after iteration 4500: 603427730.221441\n",
      "Cost after iteration 4600: 602697965.553603\n",
      "Cost after iteration 4700: 602004193.855888\n",
      "Cost after iteration 4800: 601344111.578207\n",
      "Cost after iteration 4900: 600715875.880492\n",
      "MAPE of training dataset: 12.237392484085085 %\n",
      "MAPE of test dataset: 13.465199425155562 %\n"
     ]
    }
   ],
   "source": [
    "MultivariateLinearReg_model(X_train,y_train,X_test,y_test,num_iterations = 5000, learning_rate = 0.03, print_cost = True)"
   ]
  },
  {
   "cell_type": "code",
   "execution_count": null,
   "metadata": {},
   "outputs": [],
   "source": []
  }
 ],
 "metadata": {
  "kernelspec": {
   "display_name": "Python 3",
   "language": "python",
   "name": "python3"
  },
  "language_info": {
   "codemirror_mode": {
    "name": "ipython",
    "version": 3
   },
   "file_extension": ".py",
   "mimetype": "text/x-python",
   "name": "python",
   "nbconvert_exporter": "python",
   "pygments_lexer": "ipython3",
   "version": "3.7.6"
  }
 },
 "nbformat": 4,
 "nbformat_minor": 4
}
